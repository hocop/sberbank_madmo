{
  "nbformat": 4,
  "nbformat_minor": 0,
  "metadata": {
    "colab": {
      "name": "Дополнительное ДЗ по питону (Фамилия_Имя).ipynb",
      "provenance": [],
      "collapsed_sections": []
    },
    "kernelspec": {
      "name": "python3",
      "display_name": "Python 3"
    }
  },
  "cells": [
    {
      "cell_type": "markdown",
      "metadata": {
        "id": "UMbNpcswd-_4",
        "colab_type": "text"
      },
      "source": [
        "## Дополнительное ДЗ по питону\n",
        "\n",
        "Здесь собраны несколько простых задачек на отработку базовых знаний python3.\n",
        "\n",
        "Код можно писать прямо в ячейках, но не забудьте сохраняться!"
      ]
    },
    {
      "cell_type": "markdown",
      "metadata": {
        "id": "erk_dFt1eVc0",
        "colab_type": "text"
      },
      "source": [
        "**Задача 1**  \n",
        "Есть список `a = [1, 1, 2, 3, 5, 8, 13, 21, 34, 55, 89]`.  \n",
        "\n",
        "Выведите все элементы, которые меньше 5.  "
      ]
    },
    {
      "cell_type": "code",
      "metadata": {
        "id": "1t3ZlnPPeUxP",
        "colab_type": "code",
        "colab": {}
      },
      "source": [
        "# your code here\n",
        "a = [1, 1, 2, 3, 5, 8, 13, 21, 34, 55, 89]\n",
        "..."
      ],
      "execution_count": 0,
      "outputs": []
    },
    {
      "cell_type": "markdown",
      "metadata": {
        "id": "aV6By0l3ev8c",
        "colab_type": "text"
      },
      "source": [
        "**Задача 2**  \n",
        "Даны списки:  \n",
        "```\n",
        "a = [1, 1, 2, 3, 5, 8, 13, 21, 34, 55, 89]\n",
        "b = [1, 2, 3, 4, 5, 6, 7, 8, 9, 10, 11, 12, 13]\n",
        "```\n",
        "\n",
        "Нужно вернуть список, который состоит из элементов, общих для этих двух списков."
      ]
    },
    {
      "cell_type": "code",
      "metadata": {
        "id": "c8bvhU65e24w",
        "colab_type": "code",
        "colab": {}
      },
      "source": [
        "# your code here"
      ],
      "execution_count": 0,
      "outputs": []
    },
    {
      "cell_type": "markdown",
      "metadata": {
        "id": "VipzyaWefCjy",
        "colab_type": "text"
      },
      "source": [
        "**Задача 3**  \n",
        "Даны два словаря. \n",
        "```\n",
        "a = {'жигули': 'машина', 'boeing': 'самолет', 'apple': 'телефон'}\n",
        "b = {'cat': 'кот', 'dog': 'пес', 'apple': 'яблоко'}\n",
        "```\n",
        "Слейте (соедините) их в один."
      ]
    },
    {
      "cell_type": "code",
      "metadata": {
        "id": "468p8hb-fCv_",
        "colab_type": "code",
        "colab": {}
      },
      "source": [
        "# your code here"
      ],
      "execution_count": 0,
      "outputs": []
    },
    {
      "cell_type": "markdown",
      "metadata": {
        "id": "4AZhjkzefC7G",
        "colab_type": "text"
      },
      "source": [
        "**Задача 4**  \n",
        "Найдите топ-5 значений из листа:  \n",
        "```\n",
        "lst = [211, 948, 300, 170, 744, 986, 948, 680, 472, 174, 911, 149, 865, 837, 137, 313, 821, 753, 829, 455, 475, 162, 855, 557, 696, 310, 828, 100, 130, 348]\n",
        "```"
      ]
    },
    {
      "cell_type": "code",
      "metadata": {
        "id": "C62DxgpHfDHO",
        "colab_type": "code",
        "colab": {}
      },
      "source": [
        "# your code here"
      ],
      "execution_count": 0,
      "outputs": []
    },
    {
      "cell_type": "markdown",
      "metadata": {
        "id": "sNc4dDyvfDPL",
        "colab_type": "text"
      },
      "source": [
        "**Задача 5***  \n",
        "*(Дополнительное задание)*  \n",
        "\n",
        "Дан следующий текст:"
      ]
    },
    {
      "cell_type": "code",
      "metadata": {
        "id": "DjKG4aGYfDcj",
        "colab_type": "code",
        "colab": {}
      },
      "source": [
        "text = '''\n",
        "- Да?\n",
        "- Алё!\n",
        "- Да да?\n",
        "- Ну как там с деньгами?\n",
        "- А?\n",
        "- Как с деньгами-то там?\n",
        "- Чё с деньгами?\n",
        "- Чё?\n",
        "- Куда ты звонишь?\n",
        "- Тебе звоню.\n",
        "- Кому?\n",
        "- Ну тебе.\n",
        "- Кому тебе?\n",
        "- А вот тебе вот.\n",
        "- Ты кто такой?\n",
        "- Михал Палыч.\n",
        "- Какой Михал Палыч?\n",
        "- Терентьев.\n",
        "- Такого не знаю, ты ошибся номером, друг.\n",
        "- Кто?\n",
        "- Ты.\n",
        "- Чё с деньгами?\n",
        "- Какими деньгами?\n",
        "- Ну которые я внес в капитал.\n",
        "- Куда?\n",
        "- В капитал прожиточного минимума.\n",
        "- Ты пьяный или кто, сынок?\n",
        "- Я тре.. Я Михал Палыч Терентьев.\n",
        "- Кто такой?\n",
        "- Пьяный.\n",
        "'''"
      ],
      "execution_count": 0,
      "outputs": []
    },
    {
      "cell_type": "markdown",
      "metadata": {
        "id": "2um8OTkTijyq",
        "colab_type": "text"
      },
      "source": [
        "1. Понизьте регистр (чтобы не было больших букв)\n",
        "2. Удалите символы `'.', ',', '-', '!', '?'` (можно воспользоваться методом `.replace()`\n",
        "3. Cколько раз употреблялось каждое слово в тексте? Выведите результат в виде `dict`. {'слово': частота}\n",
        "4. Выведите топ-5 самых частых слов в тексте"
      ]
    },
    {
      "cell_type": "code",
      "metadata": {
        "id": "tfB52JxikAHb",
        "colab_type": "code",
        "colab": {}
      },
      "source": [
        ""
      ],
      "execution_count": 0,
      "outputs": []
    }
  ]
}