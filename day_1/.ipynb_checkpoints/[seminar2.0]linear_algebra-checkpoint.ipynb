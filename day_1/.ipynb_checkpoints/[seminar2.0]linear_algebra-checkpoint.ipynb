{
 "cells": [
  {
   "cell_type": "markdown",
   "metadata": {
    "colab_type": "text",
    "id": "nWqtksLY0CQo"
   },
   "source": [
    "<h3 style=\"text-align: center;\"><b>Физтех-Школа Прикладной математики и информатики (ФПМИ) МФТИ</b></h3>\n",
    "\n",
    "Материал взят из репозитория [Deep Learning Shcool](https://www.dlschool.org/) и доработан мной."
   ]
  },
  {
   "cell_type": "markdown",
   "metadata": {
    "colab_type": "text",
    "id": "FL6hojzC0CQu"
   },
   "source": [
    "---"
   ]
  },
  {
   "cell_type": "markdown",
   "metadata": {
    "colab_type": "text",
    "id": "4hsjykM60CQs"
   },
   "source": [
    "<h2 style=\"text-align: center;\"><b>Элементы линейной алгебры</b></h2>"
   ]
  },
  {
   "cell_type": "markdown",
   "metadata": {
    "colab_type": "text",
    "id": "V8XTUEXh0CQy"
   },
   "source": [
    "В этом ноутбуке мы познакомимся с основными понятиями <b>линейной алгебры</b>.\n",
    "\n",
    "### План\n",
    "\n",
    "0. Зачем это нужно и что это такое?\n",
    "1. Векторы и операции с ними\n",
    "2. Матрицы и операции с ними"
   ]
  },
  {
   "cell_type": "markdown",
   "metadata": {
    "colab_type": "text",
    "id": "8BXlmLwm0CQ2"
   },
   "source": [
    "### 0. Зачем это нужно и что это такое?"
   ]
  },
  {
   "cell_type": "markdown",
   "metadata": {
    "colab_type": "text",
    "id": "GIFzbqqR0CQ4"
   },
   "source": [
    "В машинном обучении (и в науке о данных), как ни странно, во главе угла стоят **ДАННЫЕ**. Без них невозможен был бы никакой анализ, не было бы машинного обучения и глубокого обучения, не было бы искусственного интеллекта в современном его понимании."
   ]
  },
  {
   "cell_type": "markdown",
   "metadata": {
    "colab_type": "text",
    "id": "hkO3EbDB0CQ7"
   },
   "source": [
    "Данные бывают самой разной природы -- числовые, текстовые, изображения, звук. Однако компьютер может работать только с одной вещью -- с числами (а на низшем уровне, как мы знаем, это просто операции над единицами и нулями). Поэтому любая информация, будь то тексты, звук или картинки, преобразуются в числа каким-либо специальным образом."
   ]
  },
  {
   "cell_type": "markdown",
   "metadata": {
    "colab_type": "text",
    "id": "9N3jkNly0CQ9"
   },
   "source": [
    "<img src=\"https://million-wallpapers.ru/wallpapers/0/87/446778168570142.jpg\" width=300, height=300, align=\"left\">\n",
    "<img src=\"https://im0-tub-ru.yandex.net/i?id=839e5beec70041e969018e66b648f45e&n=13\" width=300, height=300, align=\"left\">\n",
    "<img src=\"https://upload.wikimedia.org/wikipedia/commons/1/18/Mimnermus.png\" width=200, height=200, align=\"left\">"
   ]
  },
  {
   "cell_type": "markdown",
   "metadata": {
    "colab_type": "text",
    "id": "DjHIzEu-0CQ_"
   },
   "source": [
    "Соответственно, именно из-за того, что данные часто очень удобно представлять в виде векторов и матриц (а при разработке моделей машинного обучения -- параметры этих моделей тоже всегда удобно представлять в виде матрицы), и появилась связь Deep Learning и Линейной алгебры (спойлер: нейросети есть просто набор матриц, взаимодействующих друг с другом определённым образом)."
   ]
  },
  {
   "cell_type": "markdown",
   "metadata": {
    "colab_type": "text",
    "id": "uF3iRI4h5AjX"
   },
   "source": [
    "**Демки**\n",
    ">https://www.youtube.com/watch?v=aR6M0MQBo2w\n",
    "\n",
    ">http://vecg.cs.ucl.ac.uk/Projects/projects_fonts/projects_fonts.html"
   ]
  },
  {
   "cell_type": "markdown",
   "metadata": {
    "colab_type": "text",
    "id": "9HaAE0cH0CRF"
   },
   "source": [
    "**Пример:**"
   ]
  },
  {
   "cell_type": "markdown",
   "metadata": {
    "colab_type": "text",
    "id": "g5gd5sTm0CRK"
   },
   "source": [
    "<img src=\"http://www.pvsm.ru/images/2018/07/26/instrumenty-Apple-dlya-mashinnogo-obucheniya-14.png\" width=500, height=300>\n",
    "\n",
    "<p style=\"text-align:center\">-- матрица. <br>Одна строчка этой матрицы -- это вектор. Один столбец этой матрицы -- тоже вектор.</p>"
   ]
  },
  {
   "cell_type": "markdown",
   "metadata": {
    "colab_type": "text",
    "id": "Nl6fw4ak0CRO"
   },
   "source": [
    "#### Определение"
   ]
  },
  {
   "cell_type": "markdown",
   "metadata": {
    "colab_type": "text",
    "id": "k2yUQMZN0CRQ"
   },
   "source": [
    "[Wikipedia](https://ru.wikipedia.org/wiki/%D0%9B%D0%B8%D0%BD%D0%B5%D0%B9%D0%BD%D0%B0%D1%8F_%D0%B0%D0%BB%D0%B3%D0%B5%D0%B1%D1%80%D0%B0)  \n",
    "**Лине́йная а́лгебра** — раздел алгебры, изучающий объекты линейной природы: векторные (или линейные) пространства, линейные отображения, системы линейных уравнений, среди основных инструментов, используемых в линейной алгебре — определители, матрицы, сопряжение."
   ]
  },
  {
   "cell_type": "markdown",
   "metadata": {
    "colab_type": "text",
    "id": "-u-2-mb_0CRS"
   },
   "source": [
    "Для нас из линейной алгебры сейчас представлят интерес только два объекта -- вектор и матрица. Давайте о них и поговорим."
   ]
  },
  {
   "cell_type": "markdown",
   "metadata": {
    "colab_type": "text",
    "id": "XFcdA_wO0CRV"
   },
   "source": [
    "### 1. Векторы и операции с ними"
   ]
  },
  {
   "cell_type": "markdown",
   "metadata": {
    "colab_type": "text",
    "id": "nqPpC0_c0CRX"
   },
   "source": [
    "**Ве́кторное (или лине́йное) простра́нство** — математическая структура, которая представляет собой набор элементов, называемых **векторами**, для которых определены операции сложения друг с другом и умножения на число — **скаляр**. Эти операции подчинены восьми аксиомам (нам эти 8 аксиом сейчас не слишком важны)."
   ]
  },
  {
   "cell_type": "markdown",
   "metadata": {
    "colab_type": "text",
    "id": "j4Mqj1Fv0CRY"
   },
   "source": [
    "В школе вы привыкли, что вектор -- это что-то такое:"
   ]
  },
  {
   "cell_type": "markdown",
   "metadata": {
    "colab_type": "text",
    "id": "Iy3mx23_0CRb"
   },
   "source": [
    "<img src=\"https://upload.wikimedia.org/wikipedia/commons/thumb/8/83/VectorAB.svg/1200px-VectorAB.svg.png\" width=300 hight=300>"
   ]
  },
  {
   "cell_type": "markdown",
   "metadata": {
    "colab_type": "text",
    "id": "M9K6M4D90CRc"
   },
   "source": [
    "Если посмотреть на аналитическую запись, то это будут какие-то два числа, характеризующие вектор. Например, $v = (5, -4)$, или $m = (0, 100)$, это будут вектора **на плоскости**, иначе говоря, элементы линейного пространства размерности 2 (две координаты)."
   ]
  },
  {
   "cell_type": "markdown",
   "metadata": {
    "colab_type": "text",
    "id": "azt5UJRH0CRe"
   },
   "source": [
    "---"
   ]
  },
  {
   "cell_type": "markdown",
   "metadata": {
    "colab_type": "text",
    "id": "xNMFRyZ90CRh"
   },
   "source": [
    "#### Упражнение 1\n",
    "\n",
    "Нарисуйте несколько векторов на плоскости, запишите их в аналитическом виде."
   ]
  },
  {
   "cell_type": "markdown",
   "metadata": {
    "colab_type": "text",
    "id": "BtaojXH30CRk"
   },
   "source": [
    "---"
   ]
  },
  {
   "cell_type": "markdown",
   "metadata": {
    "colab_type": "text",
    "id": "YcIyAJCz0CRm"
   },
   "source": [
    "Однако что будет, если мы повысим размерность?  \n",
    "Ничего особенного, просто вырастет количество координат, которыми представляется вектор. \n",
    "\n",
    "Например, в пространстве размерности 3 это всё ещё будет направленный отрезок. "
   ]
  },
  {
   "cell_type": "markdown",
   "metadata": {
    "colab_type": "text",
    "id": "GfRGrc9B0CRp"
   },
   "source": [
    "---"
   ]
  },
  {
   "cell_type": "markdown",
   "metadata": {
    "colab_type": "text",
    "id": "gZpsR3VH0CRt"
   },
   "source": [
    "#### Упражнение 2\n",
    "\n",
    "Нарисовать векторы: $a = (5, 0, -1)$, $b = (1,1,1)$, $c = (0.5, 1.5, -3.2)$"
   ]
  },
  {
   "cell_type": "markdown",
   "metadata": {
    "colab_type": "text",
    "id": "GOW_JsJ00CRw"
   },
   "source": [
    "---"
   ]
  },
  {
   "cell_type": "markdown",
   "metadata": {
    "colab_type": "text",
    "id": "zgC8rVb80CRx"
   },
   "source": [
    "Однако пространства большей размерности нам представить визуально уже сложно. Но на математическом языке вектор, принадлежащий пространству размерности 15, будет ни чем иным, как просто набором из 15 упорядоченных чисел: $a = (1,1,1,1,1,1,1,1,1,1,1,1,1,1,1)$"
   ]
  },
  {
   "cell_type": "markdown",
   "metadata": {
    "colab_type": "text",
    "id": "aj8Uol8O0CR0"
   },
   "source": [
    "#### Операции над векторами"
   ]
  },
  {
   "cell_type": "markdown",
   "metadata": {
    "colab_type": "text",
    "id": "vwJ4UySb266e"
   },
   "source": []
  },
  {
   "cell_type": "markdown",
   "metadata": {
    "colab_type": "text",
    "id": "4b3Y3Mu10CR2"
   },
   "source": [
    "***1). Сложение и вычитание:***\n",
    "\n",
    "На плоскости есть правила треугольника и параллелограмма, чтобы осуществлять геометрическое сложение и вычитание векторов. Аналитически же мы, по сути, просто складываем/вычитаем соответствующие координаты (их ещё называют компоненты) векторов. \n",
    "\n",
    "Поэтому операции сложения и вычитания над векторами есть ни что иное, как сложение и вычитание соответствующих компонент этих векторов:\n",
    "\n",
    "$a~+~b = (a_1, a_2, .., a_n) + (b_1, b_2, .., b_n) = (a_1 + b_1, a_2 + b_2, .., b_n + b_n)$\n",
    "\n",
    "Вектор + Вектор = **Вектор**\n",
    "\n",
    "$a~-~b = (a_1, a_2, .., a_n) - (b_1, b_2, .., b_n) = (a_1 - b_1, a_2 - b_2, .., b_n - b_n)$\n",
    "\n",
    "Вектор - Вектор = **Вектор**\n",
    "\n",
    "**Примеры:**\n",
    "\n",
    "$(-15, 10) - (5, 6) = (-20, 4)$  \n",
    "\n",
    "$(1, 0, 100) + (2, 3, 1000) = (3, 3, 1100)$"
   ]
  },
  {
   "cell_type": "markdown",
   "metadata": {
    "colab_type": "text",
    "id": "9R18X0iz0CR4"
   },
   "source": [
    "***2). Умножение:***"
   ]
  },
  {
   "cell_type": "markdown",
   "metadata": {
    "colab_type": "text",
    "id": "m3k41rNo0CR8"
   },
   "source": [
    "Умножать векторы можно по разному. Выделим три типа умножения:"
   ]
  },
  {
   "cell_type": "markdown",
   "metadata": {
    "colab_type": "text",
    "id": "NPIPRgQ10CR_"
   },
   "source": [
    "*а). Поэлементное умножение (произведение):*"
   ]
  },
  {
   "cell_type": "markdown",
   "metadata": {
    "colab_type": "text",
    "id": "ON0NLdXd0CSC"
   },
   "source": [
    "$a~*~b = (a_1, a_2, .., a_n) * (b_1, b_2, .., b_n) = (a_1 * b_1, a_2 * b_2, .., a_n * b_n)$\n",
    "\n",
    "Вектор \\* Вектор = **Вектор**"
   ]
  },
  {
   "cell_type": "markdown",
   "metadata": {
    "colab_type": "text",
    "id": "PHOEnh3w0CSE"
   },
   "source": [
    "*б). Скалярное произведение*"
   ]
  },
  {
   "cell_type": "markdown",
   "metadata": {
    "colab_type": "text",
    "id": "JOBBHqo20CSG"
   },
   "source": [
    "$a~\\cdot~b = (a_1, a_2, .., a_n) \\cdot (b_1, b_2, .., b_n) = a_1b_1 + a_2b_2 + .. + b_nb_n = \\sum_{i=1}^{n} a_ib_i$\n",
    "\n",
    "Вектор $\\cdot$ Вектор = **Скаляр**"
   ]
  },
  {
   "cell_type": "markdown",
   "metadata": {
    "colab_type": "text",
    "id": "-P67l3KW0CSI"
   },
   "source": [
    "*в). Векторное произведение*"
   ]
  },
  {
   "cell_type": "markdown",
   "metadata": {
    "colab_type": "text",
    "id": "vLgmD5E_0CSS"
   },
   "source": [
    "Оно нам не пригодится, но знать его очень полезно для ориентации в этой теме. Подробнее [тут](http://www.mathprofi.ru/vektornoe_proizvedenie_vektorov_smeshannoe_proizvedenie.html)."
   ]
  },
  {
   "cell_type": "markdown",
   "metadata": {
    "colab_type": "text",
    "id": "6iZmlA7l0CSV"
   },
   "source": [
    "---"
   ]
  },
  {
   "cell_type": "markdown",
   "metadata": {
    "colab_type": "text",
    "id": "sg4dRgUA0CSX"
   },
   "source": [
    "#### Упражнение 3\n",
    "\n",
    "Перемножьте векторы поэлементно и скалярно:\n",
    "\n",
    "1). $(1,2,3)$ и $(10, 100, -4)$  \n",
    "\n",
    "2). $(0, -5, 0.5)$ и $(2, -2.3, 11)$   \n",
    "\n",
    "3). $(1, 1, 1, 1, 1, 1)$ и $(2, -2, -3, -100, 33, 0.55)$  \n",
    "\n",
    "4). $(5, 2)$ и $(1, 2, 3)$"
   ]
  },
  {
   "cell_type": "markdown",
   "metadata": {
    "colab_type": "text",
    "id": "j0aHW6Aj0CSc"
   },
   "source": [
    "---"
   ]
  },
  {
   "cell_type": "markdown",
   "metadata": {
    "colab_type": "text",
    "id": "wt6iwM430CSe"
   },
   "source": [
    "***3). Деление:***"
   ]
  },
  {
   "cell_type": "markdown",
   "metadata": {
    "colab_type": "text",
    "id": "pqabithe0CSi"
   },
   "source": [
    "Под делением векторов мы будем понимать поэлементное деление. Однако будьте осторожны -- в случае деления на 0 договоримся считать, что значение не определено (Nan)."
   ]
  },
  {
   "cell_type": "markdown",
   "metadata": {
    "colab_type": "text",
    "id": "tTOc3y250CSk"
   },
   "source": [
    "$a~/~b = (a_1, a_2, .., a_n)~/~(b_1, b_2, .., b_n) = (a_1~/~b_1, a_2~/~b_2, .., a_n~/~b_n)$\n",
    "\n",
    "Вектор / Вектор = **Вектор**"
   ]
  },
  {
   "cell_type": "markdown",
   "metadata": {
    "colab_type": "text",
    "id": "OqnheTxq0CSn"
   },
   "source": [
    "---"
   ]
  },
  {
   "cell_type": "markdown",
   "metadata": {
    "colab_type": "text",
    "id": "ZQ5dNbFj0CSp"
   },
   "source": [
    "#### Упражнение 4\n",
    "\n",
    "Поделите векторы из пункта 3 предыдущего упражнения."
   ]
  },
  {
   "cell_type": "markdown",
   "metadata": {
    "colab_type": "text",
    "id": "bCEZZ9FE0CSq"
   },
   "source": [
    "---"
   ]
  },
  {
   "cell_type": "markdown",
   "metadata": {
    "colab_type": "text",
    "id": "bOhPgi670CSt"
   },
   "source": [
    "Как видите, ничего сложного нет."
   ]
  },
  {
   "cell_type": "markdown",
   "metadata": {
    "colab_type": "text",
    "id": "G1il2Uq30CSx"
   },
   "source": [
    "### 3. Матрицы и операции с ними"
   ]
  },
  {
   "cell_type": "markdown",
   "metadata": {
    "colab_type": "text",
    "id": "jPYCBSKm0CS9"
   },
   "source": [
    "Под матрицами будем понимать математический объект. Грубо говоря, матрицы -- это такие таблицы (и да простит меня кафедра высшей математики МФТИ). У них есть строки и столбцы, то есть это объекты, у которых два размера -- длина по строкам и длина по столбцам:"
   ]
  },
  {
   "cell_type": "markdown",
   "metadata": {
    "colab_type": "text",
    "id": "PiC6FPye0CS_"
   },
   "source": [
    "$$\n",
    "A = \\begin{bmatrix}\n",
    "    x_{11} & x_{12} & x_{13} & \\dots  & x_{1n} \\\\\n",
    "    x_{21} & x_{22} & x_{23} & \\dots  & x_{2n} \\\\\n",
    "    \\vdots & \\vdots & \\vdots & \\ddots & \\vdots \\\\\n",
    "    x_{m1} & x_{m2} & x_{m3} & \\dots  & x_{mn}\n",
    "\\end{bmatrix}\n",
    "$$"
   ]
  },
  {
   "cell_type": "markdown",
   "metadata": {
    "colab_type": "text",
    "id": "hPmevwi70CTC"
   },
   "source": [
    "Размер матрицы, изображённой выше -- $(m, n)$.  \n",
    "\n",
    "Можно посмотреть на матрицы и с другой стороны -- как вектор векторов (кстати, вам пригодится именно эта интерпретация в дальнейшем при программировании на NumPy)."
   ]
  },
  {
   "cell_type": "markdown",
   "metadata": {
    "colab_type": "text",
    "id": "yjGwxbRx0CTJ"
   },
   "source": [
    "#### Операции над матрицами"
   ]
  },
  {
   "cell_type": "markdown",
   "metadata": {
    "colab_type": "text",
    "id": "zuGDpHbm0CTN"
   },
   "source": [
    "Сложение, вычитание, поэлементное умножение и поэлементное деления матриц осуществляется точно так же, как и для векторов -- соответствующие элементы складываются/вычитаются/умножаются.\n",
    "\n",
    "Однако при этих операциях нужно учесть одно -- размеры матриц **должны полностью совпадать**."
   ]
  },
  {
   "cell_type": "markdown",
   "metadata": {
    "colab_type": "text",
    "id": "AJCp_bLZ0CTQ"
   },
   "source": [
    "---"
   ]
  },
  {
   "cell_type": "markdown",
   "metadata": {
    "colab_type": "text",
    "id": "QD9MI3gj0CTT"
   },
   "source": [
    "#### Упражнение 5\n",
    "\n",
    "Сложите, вычтите, поэлементно умножьте и поделите матрицы:\n",
    "\n",
    "1). \n",
    "$\n",
    "A = \\begin{bmatrix}\n",
    "    1 & 2 & 10 \\\\\n",
    "    5 & 1 & -13\n",
    "\\end{bmatrix}\n",
    "$ \n",
    "и\n",
    "$\n",
    "B = \\begin{bmatrix}\n",
    "    -5 & -5 & 3 \\\\\n",
    "    0 & 1 & 2\n",
    "\\end{bmatrix}\n",
    "$\n",
    "\n",
    "2). \n",
    "$\n",
    "A = \\begin{bmatrix}\n",
    "    1 & 2 & 10 \\\\\n",
    "    5 & 1 & -13\n",
    "\\end{bmatrix}\n",
    "$ \n",
    "и\n",
    "$\n",
    "B = \\begin{bmatrix}\n",
    "    -5 & -5 & 3 & 15 \\\\\n",
    "    0 & 1 & 2 & 100\n",
    "\\end{bmatrix}\n",
    "$\n",
    "\n",
    "3). \n",
    "$\n",
    "A = \\begin{bmatrix}\n",
    "    1 & 2 & 10 \\\\\n",
    "    5 & 1 & -13\n",
    "\\end{bmatrix}\n",
    "$ \n",
    "и\n",
    "$\n",
    "B = \\begin{bmatrix}\n",
    "    -5 & -5 \\\\\n",
    "    0 & 1 \\\\\n",
    "    10 & 20 \\\\\n",
    "    -15.5 & -1\n",
    "\\end{bmatrix}\n",
    "$"
   ]
  },
  {
   "cell_type": "markdown",
   "metadata": {
    "colab_type": "text",
    "id": "JdIhmO4F0CTZ"
   },
   "source": [
    "---"
   ]
  },
  {
   "cell_type": "markdown",
   "metadata": {
    "colab_type": "text",
    "id": "ut5oSf4Y0CTd"
   },
   "source": [
    "Теперь определим очень важную операцию -- **матричное произведение** (не поэлементное):"
   ]
  },
  {
   "cell_type": "markdown",
   "metadata": {
    "colab_type": "text",
    "id": "ZxXJQ6L30CTi"
   },
   "source": [
    "<img src=\"https://slideplayer.com/slide/10841957/39/images/8/Matrix+Multiplication.jpg\" width=500 height=500>"
   ]
  },
  {
   "cell_type": "markdown",
   "metadata": {
    "colab_type": "text",
    "id": "v_kHDUAP0CTm"
   },
   "source": [
    "С первого раза может быть не очень понятно. Лучше разобрать на примере:"
   ]
  },
  {
   "cell_type": "code",
   "execution_count": 0,
   "metadata": {
    "colab": {
     "base_uri": "https://localhost:8080/",
     "height": 90
    },
    "colab_type": "code",
    "id": "JWYATFdl0CTp",
    "outputId": "0fed6de6-70ed-421d-8f81-c4b4253695e9"
   },
   "outputs": [
    {
     "name": "stdout",
     "output_type": "stream",
     "text": [
      "[[0 2]\n",
      " [0 4]\n",
      " [0 6]\n",
      " [0 8]]\n"
     ]
    }
   ],
   "source": [
    "import numpy as np\n",
    "a = np.array(\n",
    "[\n",
    "    [1,2],\n",
    "    [3,4],\n",
    "    [5,6],\n",
    "    [7,8]\n",
    "]\n",
    ")\n",
    "\n",
    "b = np.array(\n",
    "[\n",
    "    [0,0],\n",
    "    [0,1]    \n",
    "]  \n",
    ")\n",
    "\n",
    "print(np.dot(a,b))"
   ]
  },
  {
   "cell_type": "markdown",
   "metadata": {
    "colab_type": "text",
    "id": "5cCS3RWu0CT0"
   },
   "source": [
    "---"
   ]
  },
  {
   "cell_type": "markdown",
   "metadata": {
    "colab_type": "text",
    "id": "FaIxAcnj0CT2"
   },
   "source": [
    "#### Упражнение 6"
   ]
  },
  {
   "cell_type": "markdown",
   "metadata": {
    "colab_type": "text",
    "id": "fimETmoq0CT4"
   },
   "source": [
    "Перемножьте матрицы (матрично) (они умышленно даны в таком виде -- нужно привыкать):  \n",
    "\n",
    "**a):**   \n",
    "A = [[2, 3, -2], [9, 0, 1], [1, 0, 0]]  \n",
    "B = [[1], [2], [3]]  \n",
    "\n",
    "**b):**  \n",
    "A = [[10, 20, 30, 5], [-9, -1, 2, -1]]  \n",
    "B = [[1, 1], [2, 2], [5, 5], [11, 12]]  \n",
    "\n",
    "**c):**\n",
    "A = [[10, 20, 30, 5], [-9, -1, 2, -1]]  \n",
    "B = [[1, 1], [2, 2], [5, 5]]  "
   ]
  },
  {
   "cell_type": "markdown",
   "metadata": {
    "colab_type": "text",
    "id": "vKQ4_O5oZhgm"
   },
   "source": [
    "Почему матричное произведениие определяется именно так? Такое определение очень естественно возникает в линейной алгебре и имеет много полезных свойств. Сейчас мы не будем из разбирать, единственное, что нам важно -- матричное умножение позволяет очень удобно работать с данными."
   ]
  },
  {
   "cell_type": "markdown",
   "metadata": {
    "colab_type": "text",
    "id": "FIdRWdN50CT6"
   },
   "source": [
    "### Полезные ссылки"
   ]
  },
  {
   "cell_type": "markdown",
   "metadata": {
    "colab_type": "text",
    "id": "uIpM4QMG0CUQ"
   },
   "source": [
    "*1. Сайт, на котором очень понятно объясняется аналитическая геометрия и линейная алгебра (слева есть меню, там можно выбирать темы): http://www.mathprofi.ru/vektory_dlya_chainikov.html*"
   ]
  },
  {
   "cell_type": "markdown",
   "metadata": {
    "colab_type": "text",
    "id": "y61g-LMz0CUS"
   },
   "source": [
    "*2. Наглядное объяснение многих математических идей: https://brilliant.org/*"
   ]
  },
  {
   "cell_type": "markdown",
   "metadata": {
    "colab_type": "text",
    "id": "fuvSydxI0CUV"
   },
   "source": [
    "*3.  Ещё один прекрасный в этом отношении канал: https://www.youtube.com/watch?v=fNk_zzaMoSs*"
   ]
  },
  {
   "cell_type": "code",
   "execution_count": 0,
   "metadata": {
    "colab": {},
    "colab_type": "code",
    "id": "VFXhb7Re9lLP"
   },
   "outputs": [],
   "source": []
  }
 ],
 "metadata": {
  "colab": {
   "collapsed_sections": [],
   "name": "[seminar]linear_algebra.ipynb",
   "provenance": []
  },
  "hide_input": false,
  "kernelspec": {
   "display_name": "Python 3",
   "language": "python",
   "name": "python3"
  },
  "language_info": {
   "codemirror_mode": {
    "name": "ipython",
    "version": 3
   },
   "file_extension": ".py",
   "mimetype": "text/x-python",
   "name": "python",
   "nbconvert_exporter": "python",
   "pygments_lexer": "ipython3",
   "version": "3.5.2"
  },
  "varInspector": {
   "cols": {
    "lenName": 16,
    "lenType": 16,
    "lenVar": 40
   },
   "kernels_config": {
    "python": {
     "delete_cmd_postfix": "",
     "delete_cmd_prefix": "del ",
     "library": "var_list.py",
     "varRefreshCmd": "print(var_dic_list())"
    },
    "r": {
     "delete_cmd_postfix": ") ",
     "delete_cmd_prefix": "rm(",
     "library": "var_list.r",
     "varRefreshCmd": "cat(var_dic_list()) "
    }
   },
   "types_to_exclude": [
    "module",
    "function",
    "builtin_function_or_method",
    "instance",
    "_Feature"
   ],
   "window_display": false
  }
 },
 "nbformat": 4,
 "nbformat_minor": 1
}
